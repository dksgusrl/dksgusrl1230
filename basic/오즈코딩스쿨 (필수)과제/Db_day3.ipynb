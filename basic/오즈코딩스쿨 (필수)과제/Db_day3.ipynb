"https://github.com/dksgusrl/dksgusrl1230/blob/main/%EC%8A%A4%ED%81%AC%EB%A6%B0%EC%83%B7(2206).png"
